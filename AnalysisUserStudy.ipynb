{
 "cells": [
  {
   "cell_type": "markdown",
   "metadata": {},
   "source": [
    "# Analysis of our user study"
   ]
  },
  {
   "cell_type": "markdown",
   "metadata": {},
   "source": [
    "In this notebook we provide the code that was used to obtain the results from the user study shown in our paper."
   ]
  },
  {
   "cell_type": "code",
   "execution_count": 7,
   "metadata": {},
   "outputs": [],
   "source": [
    "import pandas as pd\n",
    "import json\n",
    "from pandas import DataFrame\n",
    "import math\n",
    "\n",
    "import torch\n",
    "import pickle\n",
    "import matplotlib.pyplot as plt\n",
    "from concept_reader import ConceptExemplar, read_concepts, Concept\n",
    "import torchvision.transforms as transforms\n",
    "#import clip\n",
    "from PIL import Image\n",
    "import numpy\n",
    "from collections import OrderedDict\n",
    "from tqdm import tqdm\n",
    "import json\n",
    "import cv2\n",
    "import pandas as pd\n",
    "from pandas import DataFrame\n",
    "\n",
    "import itertools\n",
    "\n",
    "import nltk\n",
    "from nltk.corpus import wordnet\n",
    "from nltk.stem import WordNetLemmatizer\n",
    "wordnet_lemmatizer = WordNetLemmatizer()\n",
    "\n",
    "\n",
    "import gensim\n",
    "from gensim.models import CoherenceModel, KeyedVectors\n",
    "from gensim.test.utils import common_corpus, common_dictionary\n",
    "from gensim.models.coherencemodel import CoherenceModel\n",
    "\n",
    "device = \"cuda:1\" if torch.cuda.is_available() else \"cpu\""
   ]
  },
  {
   "cell_type": "markdown",
   "metadata": {},
   "source": [
    "## Data loading and preparation"
   ]
  },
  {
   "cell_type": "markdown",
   "metadata": {},
   "source": [
    "Load the user study data files, that contain the annotations for the concept examples.\n",
    "We collected 2600 human assessments of visual concepts from students for this experiment. They data contains a meaning annotated for the concept in form of a word and a numerical rating of the fit of the description in the range 0 (not at all) to 3 (very well)."
   ]
  },
  {
   "cell_type": "code",
   "execution_count": 13,
   "metadata": {},
   "outputs": [
    {
     "name": "stdout",
     "output_type": "stream",
     "text": [
      "Loaded 2600 ground truth concept ratings.\n"
     ]
    }
   ],
   "source": [
    "# Load the data\n",
    "full_list = []\n",
    "for i in range(10):\n",
    "    with open(f\"data/user_study/annotations{i+1:02d}.json\") as file: # Ignore the syntax highlighting, this is correct.\n",
    "        mylist = json.load(file)\n",
    "        #print(len(mylist))\n",
    "        full_list.extend(mylist)\n",
    "mylist = full_list\n",
    "print(\"Loaded\", len(mylist), \"ground truth concept ratings.\")"
   ]
  },
  {
   "cell_type": "markdown",
   "metadata": {},
   "source": [
    "Some post-processing of the results. \n",
    "Within our dataset, we annotated which algorithm provided the words chosen by the user, to study which method produced the best-fitting descriptions. However, sometimes there were singular and plural names of the same words provided, which we fuse in postprocessing.\n",
    "If the corresponding word was chosen, both algorithms obtained a point."
   ]
  },
  {
   "cell_type": "code",
   "execution_count": 133,
   "metadata": {},
   "outputs": [],
   "source": [
    "process = words_lists[2]\n",
    "for word in process:\n",
    "    for item in word[\"word_list\"]:\n",
    "        item[\"score\"] = -1*item[\"score\"]"
   ]
  },
  {
   "cell_type": "code",
   "execution_count": 14,
   "metadata": {},
   "outputs": [],
   "source": [
    "# Merge singular and plural words, e.g. \"door\", \"doors\". \n",
    "# The lists of algorithms that provided these words will be fused as well.\n",
    "\n",
    "# List of annotations (meanings) for the concepts provided by our annotation modules (OC, JVL, JVL with cropping)\n",
    "word_files = {0: \"data/user_study/oc_words.json\", 1: \"data/user_study/jvl_words_mse_10kwords.json\", 2: \"data/user_study/jvl_crop_words_mse_10kwords.json\"}\n",
    "\n",
    "words_lists = {k: json.load(open(v, \"r\")) for k, v in word_files.items()}\n",
    "\n",
    "def fuse_wordlists(file_name, infile_idx, items):\n",
    "    \"\"\" Return a list of the words from all algorithms. \"\"\"\n",
    "    \n",
    "    num_words = 4 # Max number of words displayed\n",
    "    word_dict = {}\n",
    "    for alg_id, v in words_lists.items():\n",
    "        for item in v:\n",
    "            if item[\"source_file\"] == file_name and item[\"source_id\"] == infile_idx:\n",
    "                num_items = 0\n",
    "                for witem in item[\"word_list\"]:\n",
    "                    if num_items >= num_words:\n",
    "                        break   \n",
    "                    if witem[\"word\"] in word_dict:\n",
    "                        word_dict[witem[\"word\"]].append(alg_id)\n",
    "                    else:\n",
    "                        word_dict[witem[\"word\"]] = [alg_id]\n",
    "                    num_items += 1\n",
    "    own_entries = find_all_own_words(file_name, infile_idx, items)\n",
    "    for e in own_entries:\n",
    "        if e in word_dict:\n",
    "            word_dict[e].append(3)\n",
    "        else:\n",
    "            word_dict[e] = [3]\n",
    "        \n",
    "    unmerged_list =  [(k,v) for k, v in word_dict.items()]\n",
    "    merged_list = [k for (k,v) in unmerged_list]\n",
    "    \n",
    "    for word in merged_list: # Remove plural if it is also in list.\n",
    "        if word + \"s\" in merged_list:\n",
    "            merged_list.remove(word + \"s\")\n",
    "\n",
    "    return unmerged_list, merged_list\n",
    "   \n",
    "def find_all_own_words(source_file, source_id, item_list):\n",
    "    ret_list = []\n",
    "    for item in mylist:\n",
    "        if item[\"source_file\"] == source_file and item[\"source_id\"] == source_id:\n",
    "            if item[\"description_algorithm\"] == [3]: # 3 means user entry\n",
    "                ret_list.append(item[\"description\"])\n",
    "    return ret_list\n",
    "\n",
    "for item in mylist:\n",
    "    if len(item[\"description_algorithm\"]) == 0:\n",
    "        item[\"description_algorithm\"] =  [3]\n",
    "        \n",
    "for item in mylist:\n",
    "    corresponding_words, merged_list = fuse_wordlists(item[\"source_file\"], item[\"source_id\"], mylist)\n",
    "    if item[\"description\"][-1] == \"s\": # Try removing the plural\n",
    "        for word, alg in corresponding_words:\n",
    "            if word == item[\"description\"][:-1]:\n",
    "                #print(word, item[\"description\"])\n",
    "                myset = set(item[\"description_algorithm\"])\n",
    "                myset.update(alg)\n",
    "                item[\"description_algorithm\"] = list(myset)\n",
    "                item[\"description\"] = item[\"description\"][:-1] # Remove plural.\n",
    "    else: # Try mergin with the plural\n",
    "        for word, alg in corresponding_words:\n",
    "            if word == item[\"description\"]+  \"s\":\n",
    "                #print(word, item[\"description\"])\n",
    "                myset = set(item[\"description_algorithm\"])\n",
    "                myset.update(alg)\n",
    "                item[\"description_algorithm\"] = list(myset)\n",
    "    #print(item[\"source_file\"], item[\"source_id\"], item)\n",
    "    try:\n",
    "        item[\"description_idx\"] = merged_list.index(item[\"description\"])\n",
    "    except ValueError:\n",
    "        item[\"description_idx\"] = 0\n",
    "        \n",
    "    item[\"num_word_choices\"] = len(merged_list)"
   ]
  },
  {
   "cell_type": "markdown",
   "metadata": {},
   "source": [
    "Load data in to a ``pandas.Dataframe``. Also load the Cross-Validation Splits (the splits we initially used were generated randomly. For reproducability, we stored them in an additional file and load them)."
   ]
  },
  {
   "cell_type": "code",
   "execution_count": 15,
   "metadata": {},
   "outputs": [],
   "source": [
    "# Load Dataframe and the Cross-Validation Splits (the splits we initially used were generated randomly. For re)\n",
    "data_frame = DataFrame.from_dict(mylist)\n",
    "\n",
    "split_dict = {} # Map (source_file, source_id) -> is_test\n",
    "import csv\n",
    "with open('data/user_study/split.csv', 'r', newline='\\r\\n') as incsv:\n",
    "    reader = csv.reader(incsv)\n",
    "    first_row = True\n",
    "    for row in reader:\n",
    "        if first_row:\n",
    "            first_row = False\n",
    "            continue\n",
    "        split_dict[(row[0], int(row[1]))] = int(row[2])\n",
    "\n",
    "#print(split_dict)\n",
    "\n",
    "is_test_list = []\n",
    "for i in range(len(data_frame)):\n",
    "    is_test_list.append(split_dict[(data_frame[\"source_file\"].iloc[i], data_frame[\"source_id\"].iloc[i])])\n",
    "x = pd.Series(is_test_list, name=\"fold\")\n",
    "data_frame[\"fold\"] = x\n"
   ]
  },
  {
   "cell_type": "code",
   "execution_count": 16,
   "metadata": {},
   "outputs": [
    {
     "data": {
      "text/html": [
       "<div>\n",
       "<style scoped>\n",
       "    .dataframe tbody tr th:only-of-type {\n",
       "        vertical-align: middle;\n",
       "    }\n",
       "\n",
       "    .dataframe tbody tr th {\n",
       "        vertical-align: top;\n",
       "    }\n",
       "\n",
       "    .dataframe thead th {\n",
       "        text-align: right;\n",
       "    }\n",
       "</style>\n",
       "<table border=\"1\" class=\"dataframe\">\n",
       "  <thead>\n",
       "    <tr style=\"text-align: right;\">\n",
       "      <th></th>\n",
       "      <th>source_file</th>\n",
       "      <th>source_id</th>\n",
       "      <th>rating</th>\n",
       "      <th>rating_num</th>\n",
       "      <th>description</th>\n",
       "      <th>description_algorithm</th>\n",
       "      <th>description_idx</th>\n",
       "      <th>num_word_choices</th>\n",
       "      <th>fold</th>\n",
       "    </tr>\n",
       "  </thead>\n",
       "  <tbody>\n",
       "    <tr>\n",
       "      <th>0</th>\n",
       "      <td>places365_kMeans</td>\n",
       "      <td>21</td>\n",
       "      <td>very well</td>\n",
       "      <td>3</td>\n",
       "      <td>tower</td>\n",
       "      <td>[0, 1, 2]</td>\n",
       "      <td>2</td>\n",
       "      <td>7</td>\n",
       "      <td>0</td>\n",
       "    </tr>\n",
       "    <tr>\n",
       "      <th>1</th>\n",
       "      <td>awa_mixin10</td>\n",
       "      <td>7</td>\n",
       "      <td>not at all</td>\n",
       "      <td>0</td>\n",
       "      <td>a</td>\n",
       "      <td>[3]</td>\n",
       "      <td>11</td>\n",
       "      <td>13</td>\n",
       "      <td>2</td>\n",
       "    </tr>\n",
       "    <tr>\n",
       "      <th>2</th>\n",
       "      <td>awa_kMeans</td>\n",
       "      <td>10</td>\n",
       "      <td>mostly well</td>\n",
       "      <td>2</td>\n",
       "      <td>background</td>\n",
       "      <td>[3]</td>\n",
       "      <td>10</td>\n",
       "      <td>13</td>\n",
       "      <td>7</td>\n",
       "    </tr>\n",
       "    <tr>\n",
       "      <th>3</th>\n",
       "      <td>places365_mixin5</td>\n",
       "      <td>17</td>\n",
       "      <td>to some extend</td>\n",
       "      <td>1</td>\n",
       "      <td>monitor</td>\n",
       "      <td>[3]</td>\n",
       "      <td>9</td>\n",
       "      <td>10</td>\n",
       "      <td>3</td>\n",
       "    </tr>\n",
       "    <tr>\n",
       "      <th>4</th>\n",
       "      <td>places365_kMeans</td>\n",
       "      <td>40</td>\n",
       "      <td>very well</td>\n",
       "      <td>3</td>\n",
       "      <td>water</td>\n",
       "      <td>[0]</td>\n",
       "      <td>0</td>\n",
       "      <td>8</td>\n",
       "      <td>5</td>\n",
       "    </tr>\n",
       "    <tr>\n",
       "      <th>...</th>\n",
       "      <td>...</td>\n",
       "      <td>...</td>\n",
       "      <td>...</td>\n",
       "      <td>...</td>\n",
       "      <td>...</td>\n",
       "      <td>...</td>\n",
       "      <td>...</td>\n",
       "      <td>...</td>\n",
       "      <td>...</td>\n",
       "    </tr>\n",
       "    <tr>\n",
       "      <th>2595</th>\n",
       "      <td>places365_mixin10</td>\n",
       "      <td>18</td>\n",
       "      <td>not at all</td>\n",
       "      <td>0</td>\n",
       "      <td>0</td>\n",
       "      <td>[3]</td>\n",
       "      <td>10</td>\n",
       "      <td>11</td>\n",
       "      <td>4</td>\n",
       "    </tr>\n",
       "    <tr>\n",
       "      <th>2596</th>\n",
       "      <td>awa_mixin5</td>\n",
       "      <td>16</td>\n",
       "      <td>to some extend</td>\n",
       "      <td>1</td>\n",
       "      <td>nature</td>\n",
       "      <td>[3]</td>\n",
       "      <td>11</td>\n",
       "      <td>12</td>\n",
       "      <td>0</td>\n",
       "    </tr>\n",
       "    <tr>\n",
       "      <th>2597</th>\n",
       "      <td>awa_Shap</td>\n",
       "      <td>20</td>\n",
       "      <td>mostly well</td>\n",
       "      <td>2</td>\n",
       "      <td>biodiversity</td>\n",
       "      <td>[2]</td>\n",
       "      <td>11</td>\n",
       "      <td>16</td>\n",
       "      <td>7</td>\n",
       "    </tr>\n",
       "    <tr>\n",
       "      <th>2598</th>\n",
       "      <td>places365_Shap</td>\n",
       "      <td>0</td>\n",
       "      <td>mostly well</td>\n",
       "      <td>2</td>\n",
       "      <td>dinner_table</td>\n",
       "      <td>[1, 2]</td>\n",
       "      <td>6</td>\n",
       "      <td>9</td>\n",
       "      <td>5</td>\n",
       "    </tr>\n",
       "    <tr>\n",
       "      <th>2599</th>\n",
       "      <td>places365_kMeans</td>\n",
       "      <td>5</td>\n",
       "      <td>not at all</td>\n",
       "      <td>0</td>\n",
       "      <td>bed</td>\n",
       "      <td>[0, 1, 2]</td>\n",
       "      <td>0</td>\n",
       "      <td>9</td>\n",
       "      <td>3</td>\n",
       "    </tr>\n",
       "  </tbody>\n",
       "</table>\n",
       "<p>2600 rows × 9 columns</p>\n",
       "</div>"
      ],
      "text/plain": [
       "            source_file  source_id          rating  rating_num   description  \\\n",
       "0      places365_kMeans         21       very well           3         tower   \n",
       "1           awa_mixin10          7      not at all           0             a   \n",
       "2            awa_kMeans         10     mostly well           2    background   \n",
       "3      places365_mixin5         17  to some extend           1       monitor   \n",
       "4      places365_kMeans         40       very well           3         water   \n",
       "...                 ...        ...             ...         ...           ...   \n",
       "2595  places365_mixin10         18      not at all           0             0   \n",
       "2596         awa_mixin5         16  to some extend           1        nature   \n",
       "2597           awa_Shap         20     mostly well           2  biodiversity   \n",
       "2598     places365_Shap          0     mostly well           2  dinner_table   \n",
       "2599   places365_kMeans          5      not at all           0           bed   \n",
       "\n",
       "     description_algorithm  description_idx  num_word_choices  fold  \n",
       "0                [0, 1, 2]                2                 7     0  \n",
       "1                      [3]               11                13     2  \n",
       "2                      [3]               10                13     7  \n",
       "3                      [3]                9                10     3  \n",
       "4                      [0]                0                 8     5  \n",
       "...                    ...              ...               ...   ...  \n",
       "2595                   [3]               10                11     4  \n",
       "2596                   [3]               11                12     0  \n",
       "2597                   [2]               11                16     7  \n",
       "2598                [1, 2]                6                 9     5  \n",
       "2599             [0, 1, 2]                0                 9     3  \n",
       "\n",
       "[2600 rows x 9 columns]"
      ]
     },
     "execution_count": 16,
     "metadata": {},
     "output_type": "execute_result"
    }
   ],
   "source": [
    "data_frame"
   ]
  },
  {
   "cell_type": "markdown",
   "metadata": {},
   "source": [
    "Description of the columns:\n",
    "\n",
    "* ``source_file``: Source of the concept of the form ``<dataset>_<algorithm>``.\n",
    "* ``source_id``: Running number in the concept file. source_file and source_id together form a unique identifier for a specific concept. In total, there are 260 concepts.\n",
    "* ``rating``: Rating assigned by the annotator in text form\n",
    "* ``rating_num``: Rating converted to a numerical score. \n",
    "* ``description``: Single-word description assigned to the concept by the user.\n",
    "* ``description_algorithm``: Which algorithm provided the description. The user was offered a choice of words by the annotation modules to choose from. If they picked one of these choices, this field indicates which algorithm came up with this word. 0 means the word was entered manually.\n",
    "* ``decription_idx``: Numeric index of the word out of the choices. Same words have the same index (in the same concept).\n",
    "* ``num_word_choice``: Number of words that were given as a choice for the rater + numer of freely chosen words (range of ``description_idx``).\n",
    "* ``fold`` cross-validation fold number (0-9)"
   ]
  },
  {
   "cell_type": "markdown",
   "metadata": {},
   "source": [
    "Example: Show all ratings for a specific conept."
   ]
  },
  {
   "cell_type": "code",
   "execution_count": 17,
   "metadata": {},
   "outputs": [
    {
     "data": {
      "text/html": [
       "<div>\n",
       "<style scoped>\n",
       "    .dataframe tbody tr th:only-of-type {\n",
       "        vertical-align: middle;\n",
       "    }\n",
       "\n",
       "    .dataframe tbody tr th {\n",
       "        vertical-align: top;\n",
       "    }\n",
       "\n",
       "    .dataframe thead th {\n",
       "        text-align: right;\n",
       "    }\n",
       "</style>\n",
       "<table border=\"1\" class=\"dataframe\">\n",
       "  <thead>\n",
       "    <tr style=\"text-align: right;\">\n",
       "      <th></th>\n",
       "      <th>source_file</th>\n",
       "      <th>source_id</th>\n",
       "      <th>rating</th>\n",
       "      <th>rating_num</th>\n",
       "      <th>description</th>\n",
       "      <th>description_algorithm</th>\n",
       "      <th>description_idx</th>\n",
       "      <th>num_word_choices</th>\n",
       "      <th>fold</th>\n",
       "    </tr>\n",
       "  </thead>\n",
       "  <tbody>\n",
       "    <tr>\n",
       "      <th>46</th>\n",
       "      <td>awa_Shap</td>\n",
       "      <td>8</td>\n",
       "      <td>to some extend</td>\n",
       "      <td>1</td>\n",
       "      <td>mane</td>\n",
       "      <td>[1, 2]</td>\n",
       "      <td>4</td>\n",
       "      <td>11</td>\n",
       "      <td>0</td>\n",
       "    </tr>\n",
       "    <tr>\n",
       "      <th>404</th>\n",
       "      <td>awa_Shap</td>\n",
       "      <td>8</td>\n",
       "      <td>not at all</td>\n",
       "      <td>0</td>\n",
       "      <td>wall</td>\n",
       "      <td>[0]</td>\n",
       "      <td>0</td>\n",
       "      <td>11</td>\n",
       "      <td>0</td>\n",
       "    </tr>\n",
       "    <tr>\n",
       "      <th>702</th>\n",
       "      <td>awa_Shap</td>\n",
       "      <td>8</td>\n",
       "      <td>to some extend</td>\n",
       "      <td>1</td>\n",
       "      <td>fur</td>\n",
       "      <td>[2]</td>\n",
       "      <td>8</td>\n",
       "      <td>11</td>\n",
       "      <td>0</td>\n",
       "    </tr>\n",
       "    <tr>\n",
       "      <th>929</th>\n",
       "      <td>awa_Shap</td>\n",
       "      <td>8</td>\n",
       "      <td>mostly well</td>\n",
       "      <td>2</td>\n",
       "      <td>fur</td>\n",
       "      <td>[2]</td>\n",
       "      <td>8</td>\n",
       "      <td>11</td>\n",
       "      <td>0</td>\n",
       "    </tr>\n",
       "    <tr>\n",
       "      <th>1162</th>\n",
       "      <td>awa_Shap</td>\n",
       "      <td>8</td>\n",
       "      <td>mostly well</td>\n",
       "      <td>2</td>\n",
       "      <td>fur</td>\n",
       "      <td>[2]</td>\n",
       "      <td>8</td>\n",
       "      <td>11</td>\n",
       "      <td>0</td>\n",
       "    </tr>\n",
       "    <tr>\n",
       "      <th>1465</th>\n",
       "      <td>awa_Shap</td>\n",
       "      <td>8</td>\n",
       "      <td>mostly well</td>\n",
       "      <td>2</td>\n",
       "      <td>mane</td>\n",
       "      <td>[1, 2]</td>\n",
       "      <td>4</td>\n",
       "      <td>11</td>\n",
       "      <td>0</td>\n",
       "    </tr>\n",
       "    <tr>\n",
       "      <th>1679</th>\n",
       "      <td>awa_Shap</td>\n",
       "      <td>8</td>\n",
       "      <td>mostly well</td>\n",
       "      <td>2</td>\n",
       "      <td>mane</td>\n",
       "      <td>[1, 2]</td>\n",
       "      <td>4</td>\n",
       "      <td>11</td>\n",
       "      <td>0</td>\n",
       "    </tr>\n",
       "    <tr>\n",
       "      <th>1876</th>\n",
       "      <td>awa_Shap</td>\n",
       "      <td>8</td>\n",
       "      <td>not at all</td>\n",
       "      <td>0</td>\n",
       "      <td>hairy</td>\n",
       "      <td>[1]</td>\n",
       "      <td>7</td>\n",
       "      <td>11</td>\n",
       "      <td>0</td>\n",
       "    </tr>\n",
       "    <tr>\n",
       "      <th>2196</th>\n",
       "      <td>awa_Shap</td>\n",
       "      <td>8</td>\n",
       "      <td>mostly well</td>\n",
       "      <td>2</td>\n",
       "      <td>fur</td>\n",
       "      <td>[2]</td>\n",
       "      <td>8</td>\n",
       "      <td>11</td>\n",
       "      <td>0</td>\n",
       "    </tr>\n",
       "    <tr>\n",
       "      <th>2485</th>\n",
       "      <td>awa_Shap</td>\n",
       "      <td>8</td>\n",
       "      <td>mostly well</td>\n",
       "      <td>2</td>\n",
       "      <td>animals</td>\n",
       "      <td>[3]</td>\n",
       "      <td>10</td>\n",
       "      <td>11</td>\n",
       "      <td>0</td>\n",
       "    </tr>\n",
       "  </tbody>\n",
       "</table>\n",
       "</div>"
      ],
      "text/plain": [
       "     source_file  source_id          rating  rating_num description  \\\n",
       "46      awa_Shap          8  to some extend           1        mane   \n",
       "404     awa_Shap          8      not at all           0        wall   \n",
       "702     awa_Shap          8  to some extend           1         fur   \n",
       "929     awa_Shap          8     mostly well           2         fur   \n",
       "1162    awa_Shap          8     mostly well           2         fur   \n",
       "1465    awa_Shap          8     mostly well           2        mane   \n",
       "1679    awa_Shap          8     mostly well           2        mane   \n",
       "1876    awa_Shap          8      not at all           0       hairy   \n",
       "2196    awa_Shap          8     mostly well           2         fur   \n",
       "2485    awa_Shap          8     mostly well           2     animals   \n",
       "\n",
       "     description_algorithm  description_idx  num_word_choices  fold  \n",
       "46                  [1, 2]                4                11     0  \n",
       "404                    [0]                0                11     0  \n",
       "702                    [2]                8                11     0  \n",
       "929                    [2]                8                11     0  \n",
       "1162                   [2]                8                11     0  \n",
       "1465                [1, 2]                4                11     0  \n",
       "1679                [1, 2]                4                11     0  \n",
       "1876                   [1]                7                11     0  \n",
       "2196                   [2]                8                11     0  \n",
       "2485                   [3]               10                11     0  "
      ]
     },
     "execution_count": 17,
     "metadata": {},
     "output_type": "execute_result"
    }
   ],
   "source": [
    "data_frame[(data_frame[\"source_id\"]==8) & (data_frame[\"source_file\"]==\"awa_Shap\")]"
   ]
  },
  {
   "cell_type": "code",
   "execution_count": 18,
   "metadata": {},
   "outputs": [
    {
     "data": {
      "text/plain": [
       "Manual                  0.130337\n",
       "OC                      0.525393\n",
       "JVL                     0.365843\n",
       "JVL (cropped images)    0.476404\n",
       "dtype: float64"
      ]
     },
     "execution_count": 18,
     "metadata": {},
     "output_type": "execute_result"
    }
   ],
   "source": [
    "## Evaluate the description algorithms\n",
    "data_frame[\"description_algorithm\"] = data_frame[\"description_algorithm\"].astype(str)\n",
    "data_frame_filtered = data_frame[data_frame[\"rating_num\"] >= 1]\n",
    "all_contains = pd.concat({\"Manual\": data_frame_filtered[\"description_algorithm\"].str.contains(\"3\"), \"OC\": data_frame_filtered[\"description_algorithm\"].str.contains(\"0\"), \"JVL\": data_frame_filtered[\"description_algorithm\"].str.contains(\"1\"), \"JVL (cropped images)\": data_frame_filtered[\"description_algorithm\"].str.contains(\"2\")}, axis=1)\n",
    "agg = all_contains.sum(axis=0)\n",
    "agg/all_contains.shape[0]"
   ]
  },
  {
   "cell_type": "code",
   "execution_count": 19,
   "metadata": {},
   "outputs": [
    {
     "data": {
      "text/plain": [
       "Text(0.5, 1.0, 'words chosen')"
      ]
     },
     "execution_count": 19,
     "metadata": {},
     "output_type": "execute_result"
    },
    {
     "data": {
      "image/png": "[encoded data removed]",
      "text/plain": [
       "<Figure size 432x288 with 1 Axes>"
      ]
     },
     "metadata": {
      "needs_background": "light"
     },
     "output_type": "display_data"
    }
   ],
   "source": [
    "import matplotlib.pyplot as plt\n",
    "import numpy as np\n",
    "labels = agg.index.to_list()\n",
    "values = agg.to_numpy()\n",
    "plt.bar(np.arange(4), values)\n",
    "plt.xticks(np.arange(4), labels)\n",
    "plt.title(\"words chosen\")"
   ]
  },
  {
   "cell_type": "markdown",
   "metadata": {},
   "source": [
    "The words chosen by the users stem mostly from the Object Centric (OC) model, however both JVL implementations are not far behind. Common words from several models were fused (therefore the percentages do not add up to 1.)\n",
    "\n",
    "In about 13 % of the cases, the subjects chose to use their own description instead of one proposed by the annotation modules."
   ]
  },
  {
   "cell_type": "markdown",
   "metadata": {},
   "source": [
    "Distribution of ratings:"
   ]
  },
  {
   "cell_type": "code",
   "execution_count": 22,
   "metadata": {},
   "outputs": [
    {
     "data": {
      "text/html": [
       "<div>\n",
       "<style scoped>\n",
       "    .dataframe tbody tr th:only-of-type {\n",
       "        vertical-align: middle;\n",
       "    }\n",
       "\n",
       "    .dataframe tbody tr th {\n",
       "        vertical-align: top;\n",
       "    }\n",
       "\n",
       "    .dataframe thead th {\n",
       "        text-align: right;\n",
       "    }\n",
       "</style>\n",
       "<table border=\"1\" class=\"dataframe\">\n",
       "  <thead>\n",
       "    <tr style=\"text-align: right;\">\n",
       "      <th></th>\n",
       "      <th>rating_num</th>\n",
       "    </tr>\n",
       "    <tr>\n",
       "      <th>rating</th>\n",
       "      <th></th>\n",
       "    </tr>\n",
       "  </thead>\n",
       "  <tbody>\n",
       "    <tr>\n",
       "      <th>mostly well</th>\n",
       "      <td>1015</td>\n",
       "    </tr>\n",
       "    <tr>\n",
       "      <th>not at all</th>\n",
       "      <td>375</td>\n",
       "    </tr>\n",
       "    <tr>\n",
       "      <th>to some extend</th>\n",
       "      <td>774</td>\n",
       "    </tr>\n",
       "    <tr>\n",
       "      <th>very well</th>\n",
       "      <td>436</td>\n",
       "    </tr>\n",
       "  </tbody>\n",
       "</table>\n",
       "</div>"
      ],
      "text/plain": [
       "                rating_num\n",
       "rating                    \n",
       "mostly well           1015\n",
       "not at all             375\n",
       "to some extend         774\n",
       "very well              436"
      ]
     },
     "execution_count": 22,
     "metadata": {},
     "output_type": "execute_result"
    }
   ],
   "source": [
    "data_frame[['rating', 'rating_num']].groupby(['rating']).count()"
   ]
  },
  {
   "cell_type": "markdown",
   "metadata": {},
   "source": [
    "\"mostly well\" (2 out of 3) was the most frequently chosen rating."
   ]
  },
  {
   "cell_type": "markdown",
   "metadata": {},
   "source": [
    "Print the mean rating of each source:"
   ]
  },
  {
   "cell_type": "code",
   "execution_count": 23,
   "metadata": {},
   "outputs": [
    {
     "data": {
      "text/html": [
       "<div>\n",
       "<style scoped>\n",
       "    .dataframe tbody tr th:only-of-type {\n",
       "        vertical-align: middle;\n",
       "    }\n",
       "\n",
       "    .dataframe tbody tr th {\n",
       "        vertical-align: top;\n",
       "    }\n",
       "\n",
       "    .dataframe thead th {\n",
       "        text-align: right;\n",
       "    }\n",
       "</style>\n",
       "<table border=\"1\" class=\"dataframe\">\n",
       "  <thead>\n",
       "    <tr style=\"text-align: right;\">\n",
       "      <th></th>\n",
       "      <th>rating_num</th>\n",
       "    </tr>\n",
       "    <tr>\n",
       "      <th>source_file</th>\n",
       "      <th></th>\n",
       "    </tr>\n",
       "  </thead>\n",
       "  <tbody>\n",
       "    <tr>\n",
       "      <th>awa_Shap</th>\n",
       "      <td>1.340</td>\n",
       "    </tr>\n",
       "    <tr>\n",
       "      <th>awa_kMeans</th>\n",
       "      <td>1.442</td>\n",
       "    </tr>\n",
       "    <tr>\n",
       "      <th>awa_mixin10</th>\n",
       "      <td>0.895</td>\n",
       "    </tr>\n",
       "    <tr>\n",
       "      <th>awa_mixin5</th>\n",
       "      <td>1.100</td>\n",
       "    </tr>\n",
       "    <tr>\n",
       "      <th>places365_Shap</th>\n",
       "      <td>2.220</td>\n",
       "    </tr>\n",
       "    <tr>\n",
       "      <th>places365_kMeans</th>\n",
       "      <td>2.196</td>\n",
       "    </tr>\n",
       "    <tr>\n",
       "      <th>places365_mixin10</th>\n",
       "      <td>0.900</td>\n",
       "    </tr>\n",
       "    <tr>\n",
       "      <th>places365_mixin5</th>\n",
       "      <td>1.450</td>\n",
       "    </tr>\n",
       "  </tbody>\n",
       "</table>\n",
       "</div>"
      ],
      "text/plain": [
       "                   rating_num\n",
       "source_file                  \n",
       "awa_Shap                1.340\n",
       "awa_kMeans              1.442\n",
       "awa_mixin10             0.895\n",
       "awa_mixin5              1.100\n",
       "places365_Shap          2.220\n",
       "places365_kMeans        2.196\n",
       "places365_mixin10       0.900\n",
       "places365_mixin5        1.450"
      ]
     },
     "execution_count": 23,
     "metadata": {},
     "output_type": "execute_result"
    }
   ],
   "source": [
    "data_frame.groupby(['source_file']).mean()[[\"rating_num\"]]"
   ]
  },
  {
   "cell_type": "markdown",
   "metadata": {},
   "source": [
    "## Run the coherence assessors and compute correlations"
   ]
  },
  {
   "cell_type": "markdown",
   "metadata": {},
   "source": [
    "In this section, we compute some of our coherence assessors and compare their results to the human ratings."
   ]
  },
  {
   "cell_type": "markdown",
   "metadata": {},
   "source": [
    "Before we can run the visual embeddings, we need to obtain the images for the concepts. Therefore, please download the respective datasets from their sources,\n",
    "* Places 365 (only validation images are needed (2.2G) from http://data.csail.mit.edu/places/places365/val_large.tar)\n",
    "* AwA2 https://cvml.ist.ac.at/AwA2/AwA2-data.zip (13G)\n",
    "and extract them. \n",
    "\n",
    "Then set the following variables to the location of the datasets. Make sure the images are in subfolders of the locations passed, to the script will find them."
   ]
  },
  {
   "cell_type": "code",
   "execution_count": 30,
   "metadata": {},
   "outputs": [],
   "source": [
    "places_path = \"/ssd/tobias/places365large\"\n",
    "awa_path = \"/ssd/tobias/datasets/awa\""
   ]
  },
  {
   "cell_type": "code",
   "execution_count": 34,
   "metadata": {},
   "outputs": [],
   "source": [
    "from add_images_script import add_images_to_concepts"
   ]
  },
  {
   "cell_type": "code",
   "execution_count": 35,
   "metadata": {
    "scrolled": true
   },
   "outputs": [
    {
     "name": "stdout",
     "output_type": "stream",
     "text": [
      "Collecting files in path: /ssd/tobias/places365large\n",
      "Collecting files in path: /ssd/tobias/datasets/awa\n",
      "Paths scanned. Found 116173 files.\n",
      "Processed  data/concepts_wo_img/places365_mixin5/concept_7.pickle\n",
      "Processed  data/concepts_wo_img/places365_mixin5/concept_11.pickle\n",
      "Processed  data/concepts_wo_img/places365_mixin5/concept_17.pickle\n",
      "Processed  data/concepts_wo_img/places365_mixin5/concept_16.pickle\n",
      "Processed  data/concepts_wo_img/places365_mixin5/concept_4.pickle\n",
      "Processed  data/concepts_wo_img/places365_mixin5/concept_10.pickle\n",
      "Processed  data/concepts_wo_img/places365_mixin5/concept_9.pickle\n",
      "Processed  data/concepts_wo_img/places365_mixin5/concept_18.pickle\n",
      "Processed  data/concepts_wo_img/places365_mixin5/concept_14.pickle\n",
      "Processed  data/concepts_wo_img/places365_mixin5/concept_1.pickle\n",
      "Processed  data/concepts_wo_img/places365_mixin5/concept_3.pickle\n",
      "Processed  data/concepts_wo_img/places365_mixin5/concept_12.pickle\n",
      "Processed  data/concepts_wo_img/places365_mixin5/concept_13.pickle\n",
      "Processed  data/concepts_wo_img/places365_mixin5/concept_19.pickle\n",
      "Processed  data/concepts_wo_img/places365_mixin5/concept_6.pickle\n",
      "Processed  data/concepts_wo_img/places365_mixin5/concept_8.pickle\n",
      "Processed  data/concepts_wo_img/places365_mixin5/concept_2.pickle\n",
      "Processed  data/concepts_wo_img/places365_mixin5/concept_5.pickle\n",
      "Processed  data/concepts_wo_img/places365_mixin5/concept_15.pickle\n",
      "Processed  data/concepts_wo_img/places365_mixin5/concept_0.pickle\n",
      "Processed  data/concepts_wo_img/places365_Shap/concept_7.pickle\n",
      "Processed  data/concepts_wo_img/places365_Shap/concept_11.pickle\n",
      "Processed  data/concepts_wo_img/places365_Shap/concept_17.pickle\n",
      "Processed  data/concepts_wo_img/places365_Shap/concept_16.pickle\n",
      "Processed  data/concepts_wo_img/places365_Shap/concept_4.pickle\n",
      "Processed  data/concepts_wo_img/places365_Shap/concept_10.pickle\n",
      "Processed  data/concepts_wo_img/places365_Shap/concept_34.pickle\n",
      "Processed  data/concepts_wo_img/places365_Shap/concept_28.pickle\n",
      "Processed  data/concepts_wo_img/places365_Shap/concept_9.pickle\n",
      "Processed  data/concepts_wo_img/places365_Shap/concept_26.pickle\n",
      "Processed  data/concepts_wo_img/places365_Shap/concept_27.pickle\n",
      "Processed  data/concepts_wo_img/places365_Shap/concept_18.pickle\n",
      "Processed  data/concepts_wo_img/places365_Shap/concept_22.pickle\n",
      "Processed  data/concepts_wo_img/places365_Shap/concept_14.pickle\n",
      "Processed  data/concepts_wo_img/places365_Shap/concept_39.pickle\n",
      "Processed  data/concepts_wo_img/places365_Shap/concept_33.pickle\n",
      "Processed  data/concepts_wo_img/places365_Shap/concept_25.pickle\n",
      "Processed  data/concepts_wo_img/places365_Shap/concept_1.pickle\n",
      "Processed  data/concepts_wo_img/places365_Shap/concept_37.pickle\n",
      "Processed  data/concepts_wo_img/places365_Shap/concept_29.pickle\n",
      "Processed  data/concepts_wo_img/places365_Shap/concept_3.pickle\n",
      "Processed  data/concepts_wo_img/places365_Shap/concept_23.pickle\n",
      "Processed  data/concepts_wo_img/places365_Shap/concept_30.pickle\n",
      "Processed  data/concepts_wo_img/places365_Shap/concept_12.pickle\n",
      "Processed  data/concepts_wo_img/places365_Shap/concept_20.pickle\n",
      "Processed  data/concepts_wo_img/places365_Shap/concept_13.pickle\n",
      "Processed  data/concepts_wo_img/places365_Shap/concept_36.pickle\n",
      "Processed  data/concepts_wo_img/places365_Shap/concept_19.pickle\n",
      "Processed  data/concepts_wo_img/places365_Shap/concept_6.pickle\n",
      "Processed  data/concepts_wo_img/places365_Shap/concept_8.pickle\n",
      "Processed  data/concepts_wo_img/places365_Shap/concept_31.pickle\n",
      "Processed  data/concepts_wo_img/places365_Shap/concept_24.pickle\n",
      "Processed  data/concepts_wo_img/places365_Shap/concept_2.pickle\n",
      "Processed  data/concepts_wo_img/places365_Shap/concept_32.pickle\n",
      "Processed  data/concepts_wo_img/places365_Shap/concept_5.pickle\n",
      "Processed  data/concepts_wo_img/places365_Shap/concept_15.pickle\n",
      "Processed  data/concepts_wo_img/places365_Shap/concept_38.pickle\n",
      "Processed  data/concepts_wo_img/places365_Shap/concept_35.pickle\n",
      "Processed  data/concepts_wo_img/places365_Shap/concept_21.pickle\n",
      "Processed  data/concepts_wo_img/places365_Shap/concept_0.pickle\n",
      "Processed  data/concepts_wo_img/places365_mixin10/concept_7.pickle\n",
      "Processed  data/concepts_wo_img/places365_mixin10/concept_11.pickle\n",
      "Processed  data/concepts_wo_img/places365_mixin10/concept_17.pickle\n",
      "Processed  data/concepts_wo_img/places365_mixin10/concept_16.pickle\n",
      "Processed  data/concepts_wo_img/places365_mixin10/concept_4.pickle\n",
      "Processed  data/concepts_wo_img/places365_mixin10/concept_10.pickle\n",
      "Processed  data/concepts_wo_img/places365_mixin10/concept_9.pickle\n",
      "Processed  data/concepts_wo_img/places365_mixin10/concept_18.pickle\n",
      "Processed  data/concepts_wo_img/places365_mixin10/concept_14.pickle\n",
      "Processed  data/concepts_wo_img/places365_mixin10/concept_1.pickle\n",
      "Processed  data/concepts_wo_img/places365_mixin10/concept_3.pickle\n",
      "Processed  data/concepts_wo_img/places365_mixin10/concept_12.pickle\n",
      "Processed  data/concepts_wo_img/places365_mixin10/concept_13.pickle\n",
      "Processed  data/concepts_wo_img/places365_mixin10/concept_19.pickle\n",
      "Processed  data/concepts_wo_img/places365_mixin10/concept_6.pickle\n",
      "Processed  data/concepts_wo_img/places365_mixin10/concept_8.pickle\n",
      "Processed  data/concepts_wo_img/places365_mixin10/concept_2.pickle\n",
      "Processed  data/concepts_wo_img/places365_mixin10/concept_5.pickle\n",
      "Processed  data/concepts_wo_img/places365_mixin10/concept_15.pickle\n",
      "Processed  data/concepts_wo_img/places365_mixin10/concept_0.pickle\n",
      "Processed  data/concepts_wo_img/awa_mixin5/concept_7.pickle\n",
      "Processed  data/concepts_wo_img/awa_mixin5/concept_11.pickle\n",
      "Processed  data/concepts_wo_img/awa_mixin5/concept_17.pickle\n",
      "Processed  data/concepts_wo_img/awa_mixin5/concept_16.pickle\n",
      "Processed  data/concepts_wo_img/awa_mixin5/concept_4.pickle\n",
      "Processed  data/concepts_wo_img/awa_mixin5/concept_10.pickle\n",
      "Processed  data/concepts_wo_img/awa_mixin5/concept_9.pickle\n",
      "Processed  data/concepts_wo_img/awa_mixin5/concept_18.pickle\n",
      "Processed  data/concepts_wo_img/awa_mixin5/concept_14.pickle\n",
      "Processed  data/concepts_wo_img/awa_mixin5/concept_1.pickle\n",
      "Processed  data/concepts_wo_img/awa_mixin5/concept_3.pickle\n",
      "Processed  data/concepts_wo_img/awa_mixin5/concept_12.pickle\n",
      "Processed  data/concepts_wo_img/awa_mixin5/concept_13.pickle\n",
      "Processed  data/concepts_wo_img/awa_mixin5/concept_19.pickle\n",
      "Processed  data/concepts_wo_img/awa_mixin5/concept_6.pickle\n",
      "Processed  data/concepts_wo_img/awa_mixin5/concept_8.pickle\n",
      "Processed  data/concepts_wo_img/awa_mixin5/concept_2.pickle\n",
      "Processed  data/concepts_wo_img/awa_mixin5/concept_5.pickle\n",
      "Processed  data/concepts_wo_img/awa_mixin5/concept_15.pickle\n",
      "Processed  data/concepts_wo_img/awa_mixin5/concept_0.pickle\n",
      "Processed  data/concepts_wo_img/awa_kMeans/concept_7.pickle\n",
      "Processed  data/concepts_wo_img/awa_kMeans/concept_11.pickle\n",
      "Processed  data/concepts_wo_img/awa_kMeans/concept_17.pickle\n",
      "Processed  data/concepts_wo_img/awa_kMeans/concept_42.pickle\n",
      "Processed  data/concepts_wo_img/awa_kMeans/concept_16.pickle\n",
      "Processed  data/concepts_wo_img/awa_kMeans/concept_4.pickle\n",
      "Processed  data/concepts_wo_img/awa_kMeans/concept_46.pickle\n",
      "Processed  data/concepts_wo_img/awa_kMeans/concept_10.pickle\n",
      "Processed  data/concepts_wo_img/awa_kMeans/concept_34.pickle\n",
      "Processed  data/concepts_wo_img/awa_kMeans/concept_28.pickle\n",
      "Processed  data/concepts_wo_img/awa_kMeans/concept_9.pickle\n",
      "Processed  data/concepts_wo_img/awa_kMeans/concept_26.pickle\n",
      "Processed  data/concepts_wo_img/awa_kMeans/concept_27.pickle\n",
      "Processed  data/concepts_wo_img/awa_kMeans/concept_18.pickle\n",
      "Processed  data/concepts_wo_img/awa_kMeans/concept_22.pickle\n",
      "Processed  data/concepts_wo_img/awa_kMeans/concept_47.pickle\n",
      "Processed  data/concepts_wo_img/awa_kMeans/concept_14.pickle\n",
      "Processed  data/concepts_wo_img/awa_kMeans/concept_39.pickle\n",
      "Processed  data/concepts_wo_img/awa_kMeans/concept_33.pickle\n",
      "Processed  data/concepts_wo_img/awa_kMeans/concept_43.pickle\n",
      "Processed  data/concepts_wo_img/awa_kMeans/concept_25.pickle\n",
      "Processed  data/concepts_wo_img/awa_kMeans/concept_1.pickle\n",
      "Processed  data/concepts_wo_img/awa_kMeans/concept_37.pickle\n",
      "Processed  data/concepts_wo_img/awa_kMeans/concept_29.pickle\n",
      "Processed  data/concepts_wo_img/awa_kMeans/concept_3.pickle\n",
      "Processed  data/concepts_wo_img/awa_kMeans/concept_48.pickle\n",
      "Processed  data/concepts_wo_img/awa_kMeans/concept_23.pickle\n",
      "Processed  data/concepts_wo_img/awa_kMeans/concept_30.pickle\n",
      "Processed  data/concepts_wo_img/awa_kMeans/concept_44.pickle\n",
      "Processed  data/concepts_wo_img/awa_kMeans/concept_12.pickle\n",
      "Processed  data/concepts_wo_img/awa_kMeans/concept_20.pickle\n",
      "Processed  data/concepts_wo_img/awa_kMeans/concept_45.pickle\n",
      "Processed  data/concepts_wo_img/awa_kMeans/concept_41.pickle\n",
      "Processed  data/concepts_wo_img/awa_kMeans/concept_13.pickle\n",
      "Processed  data/concepts_wo_img/awa_kMeans/concept_36.pickle\n",
      "Processed  data/concepts_wo_img/awa_kMeans/concept_19.pickle\n",
      "Processed  data/concepts_wo_img/awa_kMeans/concept_40.pickle\n",
      "Processed  data/concepts_wo_img/awa_kMeans/concept_6.pickle\n",
      "Processed  data/concepts_wo_img/awa_kMeans/concept_8.pickle\n",
      "Processed  data/concepts_wo_img/awa_kMeans/concept_31.pickle\n",
      "Processed  data/concepts_wo_img/awa_kMeans/concept_24.pickle\n",
      "Processed  data/concepts_wo_img/awa_kMeans/concept_2.pickle\n",
      "Processed  data/concepts_wo_img/awa_kMeans/concept_32.pickle\n",
      "Processed  data/concepts_wo_img/awa_kMeans/concept_5.pickle\n",
      "Processed  data/concepts_wo_img/awa_kMeans/concept_15.pickle\n",
      "Processed  data/concepts_wo_img/awa_kMeans/concept_49.pickle\n",
      "Processed  data/concepts_wo_img/awa_kMeans/concept_38.pickle\n",
      "Processed  data/concepts_wo_img/awa_kMeans/concept_35.pickle\n",
      "Processed  data/concepts_wo_img/awa_kMeans/concept_21.pickle\n",
      "Processed  data/concepts_wo_img/awa_kMeans/concept_0.pickle\n",
      "Processed  data/concepts_wo_img/awa_Shap/concept_7.pickle\n",
      "Processed  data/concepts_wo_img/awa_Shap/concept_11.pickle\n",
      "Processed  data/concepts_wo_img/awa_Shap/concept_17.pickle\n",
      "Processed  data/concepts_wo_img/awa_Shap/concept_16.pickle\n",
      "Processed  data/concepts_wo_img/awa_Shap/concept_4.pickle\n",
      "Processed  data/concepts_wo_img/awa_Shap/concept_10.pickle\n",
      "Processed  data/concepts_wo_img/awa_Shap/concept_34.pickle\n",
      "Processed  data/concepts_wo_img/awa_Shap/concept_28.pickle\n",
      "Processed  data/concepts_wo_img/awa_Shap/concept_9.pickle\n",
      "Processed  data/concepts_wo_img/awa_Shap/concept_26.pickle\n",
      "Processed  data/concepts_wo_img/awa_Shap/concept_27.pickle\n",
      "Processed  data/concepts_wo_img/awa_Shap/concept_18.pickle\n",
      "Processed  data/concepts_wo_img/awa_Shap/concept_22.pickle\n",
      "Processed  data/concepts_wo_img/awa_Shap/concept_14.pickle\n",
      "Processed  data/concepts_wo_img/awa_Shap/concept_39.pickle\n",
      "Processed  data/concepts_wo_img/awa_Shap/concept_33.pickle\n",
      "Processed  data/concepts_wo_img/awa_Shap/concept_25.pickle\n",
      "Processed  data/concepts_wo_img/awa_Shap/concept_1.pickle\n",
      "Processed  data/concepts_wo_img/awa_Shap/concept_37.pickle\n",
      "Processed  data/concepts_wo_img/awa_Shap/concept_29.pickle\n",
      "Processed  data/concepts_wo_img/awa_Shap/concept_3.pickle\n",
      "Processed  data/concepts_wo_img/awa_Shap/concept_23.pickle\n",
      "Processed  data/concepts_wo_img/awa_Shap/concept_30.pickle\n",
      "Processed  data/concepts_wo_img/awa_Shap/concept_12.pickle\n",
      "Processed  data/concepts_wo_img/awa_Shap/concept_20.pickle\n",
      "Processed  data/concepts_wo_img/awa_Shap/concept_13.pickle\n",
      "Processed  data/concepts_wo_img/awa_Shap/concept_36.pickle\n",
      "Processed  data/concepts_wo_img/awa_Shap/concept_19.pickle\n",
      "Processed  data/concepts_wo_img/awa_Shap/concept_6.pickle\n",
      "Processed  data/concepts_wo_img/awa_Shap/concept_8.pickle\n",
      "Processed  data/concepts_wo_img/awa_Shap/concept_31.pickle\n",
      "Processed  data/concepts_wo_img/awa_Shap/concept_24.pickle\n",
      "Processed  data/concepts_wo_img/awa_Shap/concept_2.pickle\n",
      "Processed  data/concepts_wo_img/awa_Shap/concept_32.pickle\n",
      "Processed  data/concepts_wo_img/awa_Shap/concept_5.pickle\n",
      "Processed  data/concepts_wo_img/awa_Shap/concept_15.pickle\n",
      "Processed  data/concepts_wo_img/awa_Shap/concept_38.pickle\n",
      "Processed  data/concepts_wo_img/awa_Shap/concept_35.pickle\n",
      "Processed  data/concepts_wo_img/awa_Shap/concept_21.pickle\n",
      "Processed  data/concepts_wo_img/awa_Shap/concept_0.pickle\n",
      "Processed  data/concepts_wo_img/places365_kMeans/concept_7.pickle\n",
      "Processed  data/concepts_wo_img/places365_kMeans/concept_11.pickle\n",
      "Processed  data/concepts_wo_img/places365_kMeans/concept_17.pickle\n",
      "Processed  data/concepts_wo_img/places365_kMeans/concept_42.pickle\n",
      "Processed  data/concepts_wo_img/places365_kMeans/concept_16.pickle\n",
      "Processed  data/concepts_wo_img/places365_kMeans/concept_4.pickle\n",
      "Processed  data/concepts_wo_img/places365_kMeans/concept_46.pickle\n",
      "Processed  data/concepts_wo_img/places365_kMeans/concept_10.pickle\n",
      "Processed  data/concepts_wo_img/places365_kMeans/concept_34.pickle\n",
      "Processed  data/concepts_wo_img/places365_kMeans/concept_28.pickle\n",
      "Processed  data/concepts_wo_img/places365_kMeans/concept_9.pickle\n",
      "Processed  data/concepts_wo_img/places365_kMeans/concept_26.pickle\n",
      "Processed  data/concepts_wo_img/places365_kMeans/concept_27.pickle\n",
      "Processed  data/concepts_wo_img/places365_kMeans/concept_18.pickle\n",
      "Processed  data/concepts_wo_img/places365_kMeans/concept_22.pickle\n",
      "Processed  data/concepts_wo_img/places365_kMeans/concept_47.pickle\n",
      "Processed  data/concepts_wo_img/places365_kMeans/concept_14.pickle\n",
      "Processed  data/concepts_wo_img/places365_kMeans/concept_39.pickle\n",
      "Processed  data/concepts_wo_img/places365_kMeans/concept_33.pickle\n",
      "Processed  data/concepts_wo_img/places365_kMeans/concept_43.pickle\n",
      "Processed  data/concepts_wo_img/places365_kMeans/concept_25.pickle\n",
      "Processed  data/concepts_wo_img/places365_kMeans/concept_1.pickle\n",
      "Processed  data/concepts_wo_img/places365_kMeans/concept_37.pickle\n",
      "Processed  data/concepts_wo_img/places365_kMeans/concept_29.pickle\n",
      "Processed  data/concepts_wo_img/places365_kMeans/concept_3.pickle\n",
      "Processed  data/concepts_wo_img/places365_kMeans/concept_48.pickle\n",
      "Processed  data/concepts_wo_img/places365_kMeans/concept_23.pickle\n",
      "Processed  data/concepts_wo_img/places365_kMeans/concept_30.pickle\n",
      "Processed  data/concepts_wo_img/places365_kMeans/concept_44.pickle\n",
      "Processed  data/concepts_wo_img/places365_kMeans/concept_12.pickle\n",
      "Processed  data/concepts_wo_img/places365_kMeans/concept_20.pickle\n",
      "Processed  data/concepts_wo_img/places365_kMeans/concept_45.pickle\n",
      "Processed  data/concepts_wo_img/places365_kMeans/concept_41.pickle\n",
      "Processed  data/concepts_wo_img/places365_kMeans/concept_13.pickle\n",
      "Processed  data/concepts_wo_img/places365_kMeans/concept_36.pickle\n",
      "Processed  data/concepts_wo_img/places365_kMeans/concept_19.pickle\n",
      "Processed  data/concepts_wo_img/places365_kMeans/concept_40.pickle\n",
      "Processed  data/concepts_wo_img/places365_kMeans/concept_6.pickle\n",
      "Processed  data/concepts_wo_img/places365_kMeans/concept_8.pickle\n",
      "Processed  data/concepts_wo_img/places365_kMeans/concept_31.pickle\n",
      "Processed  data/concepts_wo_img/places365_kMeans/concept_24.pickle\n",
      "Processed  data/concepts_wo_img/places365_kMeans/concept_2.pickle\n",
      "Processed  data/concepts_wo_img/places365_kMeans/concept_32.pickle\n",
      "Processed  data/concepts_wo_img/places365_kMeans/concept_5.pickle\n",
      "Processed  data/concepts_wo_img/places365_kMeans/concept_15.pickle\n",
      "Processed  data/concepts_wo_img/places365_kMeans/concept_49.pickle\n",
      "Processed  data/concepts_wo_img/places365_kMeans/concept_38.pickle\n",
      "Processed  data/concepts_wo_img/places365_kMeans/concept_35.pickle\n",
      "Processed  data/concepts_wo_img/places365_kMeans/concept_21.pickle\n",
      "Processed  data/concepts_wo_img/places365_kMeans/concept_0.pickle\n",
      "Processed  data/concepts_wo_img/awa_mixin10/concept_7.pickle\n",
      "Processed  data/concepts_wo_img/awa_mixin10/concept_11.pickle\n",
      "Processed  data/concepts_wo_img/awa_mixin10/concept_17.pickle\n",
      "Processed  data/concepts_wo_img/awa_mixin10/concept_16.pickle\n",
      "Processed  data/concepts_wo_img/awa_mixin10/concept_4.pickle\n",
      "Processed  data/concepts_wo_img/awa_mixin10/concept_10.pickle\n",
      "Processed  data/concepts_wo_img/awa_mixin10/concept_9.pickle\n",
      "Processed  data/concepts_wo_img/awa_mixin10/concept_18.pickle\n",
      "Processed  data/concepts_wo_img/awa_mixin10/concept_14.pickle\n",
      "Processed  data/concepts_wo_img/awa_mixin10/concept_1.pickle\n",
      "Processed  data/concepts_wo_img/awa_mixin10/concept_3.pickle\n",
      "Processed  data/concepts_wo_img/awa_mixin10/concept_12.pickle\n",
      "Processed  data/concepts_wo_img/awa_mixin10/concept_13.pickle\n",
      "Processed  data/concepts_wo_img/awa_mixin10/concept_19.pickle\n",
      "Processed  data/concepts_wo_img/awa_mixin10/concept_6.pickle\n",
      "Processed  data/concepts_wo_img/awa_mixin10/concept_8.pickle\n",
      "Processed  data/concepts_wo_img/awa_mixin10/concept_2.pickle\n",
      "Processed  data/concepts_wo_img/awa_mixin10/concept_5.pickle\n",
      "Processed  data/concepts_wo_img/awa_mixin10/concept_15.pickle\n",
      "Processed  data/concepts_wo_img/awa_mixin10/concept_0.pickle\n",
      "Successfully added images to 260 concepts\n"
     ]
    }
   ],
   "source": [
    "ret = add_images_to_concepts(\"data/concepts_wo_img\", [places_path, awa_path])\n",
    "print(\"Successfully added images to\", ret, \"concepts\")"
   ]
  },
  {
   "cell_type": "markdown",
   "metadata": {},
   "source": [
    "## Assessors: Get Visual-Embeddings (VE) and Best-Aligned Meaning (BAM) Scores"
   ]
  },
  {
   "cell_type": "code",
   "execution_count": 48,
   "metadata": {},
   "outputs": [],
   "source": [
    "%load_ext autoreload\n",
    "%autoreload 2"
   ]
  },
  {
   "cell_type": "code",
   "execution_count": 148,
   "metadata": {},
   "outputs": [
    {
     "name": "stdout",
     "output_type": "stream",
     "text": [
      "Loaded 260 concept examples and concept activation maps.\n"
     ]
    }
   ],
   "source": [
    "eval_concepts = []\n",
    "concept_model = ['awa_Shap', 'awa_kMeans', 'awa_mixin5', 'awa_mixin10',\n",
    "                 'places365_Shap', 'places365_kMeans', 'places365_mixin5', 'places365_mixin10'] #\n",
    "for m in concept_model:\n",
    "    foldername = \"data/concepts_wo_img/\" + m\n",
    "    eval_concepts.extend(read_concepts(foldername))\n",
    "print(f\"Loaded {len(eval_concepts)} concept examples and concept activation maps.\")"
   ]
  },
  {
   "cell_type": "code",
   "execution_count": 149,
   "metadata": {},
   "outputs": [],
   "source": [
    "# Name the annotation outputs\n",
    "words_dictOC = words_lists[0]\n",
    "words_dictJVL = words_lists[1]\n",
    "words_dictJVLCrop = words_lists[2]"
   ]
  },
  {
   "cell_type": "code",
   "execution_count": 193,
   "metadata": {},
   "outputs": [],
   "source": [
    "# Create a whole matrix for results of the coherence assessment modules.\n",
    "# First, we test Visual Embeddings (VE) with different coherence metrics and the Best-Aligned Meaning (BAM) module with different annotators.\n",
    "from coherence_assessor import BestAlignedMeaningAssessor, VisualEmbeddingsAssessor, HybridAssessor\n",
    "import torchvision.models as models\n",
    "\n",
    "use_device = \"cuda:1\"\n",
    "\n",
    "model = models.resnet50(pretrained=True).to(use_device)\n",
    "# Set up a dict with the names and the corresponding annotation modules.\n",
    "columns = [(\"ve_dmin\", words_dictOC, VisualEmbeddingsAssessor(device=use_device, coherence_measure = \"min\", cam_weighted=False, model=model)),\n",
    "           (\"ve_dmean\", words_dictOC, VisualEmbeddingsAssessor(device=use_device, coherence_measure = \"mean\", cam_weighted=False, model=model)),\n",
    "           (\"ve_dmin_weigh\", words_dictOC, VisualEmbeddingsAssessor(device=use_device, coherence_measure = \"min\", cam_weighted=True, model=model)),\n",
    "           (\"ve_dmean_weigh\", words_dictOC, VisualEmbeddingsAssessor(device=use_device, coherence_measure = \"mean\", cam_weighted=True, model=model)),\n",
    "           (\"bam_jvl\", words_dictJVL, BestAlignedMeaningAssessor()),\n",
    "           (\"bam_jvl_crop\", words_dictJVLCrop, BestAlignedMeaningAssessor()),\n",
    "           (\"bam_oc\", words_dictOC, BestAlignedMeaningAssessor()),\n",
    "          ] "
   ]
  },
  {
   "cell_type": "code",
   "execution_count": 151,
   "metadata": {},
   "outputs": [],
   "source": [
    "# Some space to save results.\n",
    "results_dict = {c[0]: np.zeros(len(eval_concepts)) for c in columns}            \n",
    "results_dict[\"ground_truth\"] = np.zeros(len(eval_concepts))\n",
    "results_dict[\"folds\"] = np.zeros(len(eval_concepts))"
   ]
  },
  {
   "cell_type": "code",
   "execution_count": 152,
   "metadata": {},
   "outputs": [
    {
     "data": {
      "text/plain": [
       "dict_keys(['ve_dmin', 've_dmean', 've_dmin_weigh', 've_dmean_weigh', 'bam_jvl', 'bam_jvl_crop', 'bam_oc', 'ground_truth', 'folds'])"
      ]
     },
     "execution_count": 152,
     "metadata": {},
     "output_type": "execute_result"
    }
   ],
   "source": [
    "results_dict.keys()"
   ]
  },
  {
   "cell_type": "markdown",
   "metadata": {},
   "source": [
    "Load the pretrained ResNet50 for the visual embeddings and register a hook to access the latent representation"
   ]
  },
  {
   "cell_type": "code",
   "execution_count": 153,
   "metadata": {},
   "outputs": [],
   "source": [
    "def get_average_score(file_name, source_id):\n",
    "    selection = data_frame[(data_frame['source_file'] == file_name) & (data_frame['source_id']==source_id)] #\n",
    "    return selection[\"rating_num\"].mean()\n",
    "\n",
    "def get_meaning_from_list(wordlist, file_name, source_id):\n",
    "    for item in wordlist:\n",
    "        if item[\"source_file\"] == file_name and item[\"source_id\"] == source_id:\n",
    "            return item[\"word_list\"]\n",
    "    return None"
   ]
  },
  {
   "cell_type": "code",
   "execution_count": 154,
   "metadata": {},
   "outputs": [
    {
     "data": {
      "text/plain": [
       "[{'word': 'head', 'score': 1.9661644970155396},\n",
       " {'word': 'ear', 'score': 1.784575711716616},\n",
       " {'word': 'grass', 'score': 1.7227018854713114},\n",
       " {'word': 'bear', 'score': 1.4485389878489097},\n",
       " {'word': 'fur', 'score': 1.0509405324383936},\n",
       " {'word': 'tree', 'score': 1.0062782881996035}]"
      ]
     },
     "execution_count": 154,
     "metadata": {},
     "output_type": "execute_result"
    }
   ],
   "source": [
    "get_meaning_from_list(words_dictOC, \"awa_Shap\", 3)"
   ]
  },
  {
   "cell_type": "code",
   "execution_count": 155,
   "metadata": {},
   "outputs": [
    {
     "name": "stderr",
     "output_type": "stream",
     "text": [
      "260it [01:54,  2.28it/s]\n"
     ]
    }
   ],
   "source": [
    "source_to_idx = {} # A dictionary mapping the (source_file, source_id) -> index in the results array.\n",
    "from tqdm import tqdm\n",
    "for i, my_concept in tqdm(enumerate(eval_concepts)):\n",
    "    # Load concept and compute CNN features\n",
    "    \n",
    "    results_dict[\"folds\"][i] = split_dict[(my_concept.source_file, my_concept.source_id)]\n",
    "    results_dict[\"ground_truth\"][i] = get_average_score(my_concept.source_file, my_concept.source_id)\n",
    "    \n",
    "    for name, annotations, assessor_obj in columns:\n",
    "        #print(name, len(annotations), assessor_obj)\n",
    "        #retrieve annotations\n",
    "        meaning = get_meaning_from_list(annotations, my_concept.source_file, my_concept.source_id)\n",
    "        results_dict[name][i] = assessor_obj.assess(meaning, my_concept)"
   ]
  },
  {
   "cell_type": "markdown",
   "metadata": {},
   "source": [
    "# Visualize the results."
   ]
  },
  {
   "cell_type": "code",
   "execution_count": 118,
   "metadata": {},
   "outputs": [],
   "source": [
    "# For nice latex figures. Skip if you are happy with normal output.\n",
    "plt.rcParams.update({\n",
    "    \"text.usetex\": True,\n",
    "    \"font.family\": \"sans-serif\",\n",
    "    #\"font.sans-serif\": [\"Helvetica\"]}\n",
    "    \"text.usetex\": True,\n",
    "    \"pgf.texsystem\": \"pdflatex\",\n",
    "    \"pgf.preamble\": r\"\\usepackage{bm,times}\",\n",
    "    \"font.family\": \"times\",\n",
    "    # Use LaTeX default serif font.\n",
    "    \"font.serif\": [\"Times\"],\n",
    "    # Use specific cursive fonts.\n",
    "    \"font.cursive\": [\"Comic Neue\", \"Comic Sans MS\"],\n",
    "\n",
    "})"
   ]
  },
  {
   "cell_type": "code",
   "execution_count": 122,
   "metadata": {},
   "outputs": [
    {
     "data": {
      "image/png": "[encoded data removed]",
      "text/plain": [
       "<Figure size 432x216 with 2 Axes>"
      ]
     },
     "metadata": {
      "needs_background": "light"
     },
     "output_type": "display_data"
    }
   ],
   "source": [
    "from sklearn import metrics\n",
    "f, (ax1, ax2) = plt.subplots(1,2)\n",
    "median = np.median(results_dict[\"ground_truth\"])\n",
    "ground_truth_classification = results_dict[\"ground_truth\"] > median # Classification: larger or smaller than median\n",
    "target1 = \"ve_dmean_weigh\"\n",
    "target2 = \"bam_oc\"\n",
    "ve_dmean = (results_dict[target1]-results_dict[target1].mean())/results_dict[target1].std()\n",
    "bam_oc = (results_dict[target2]-results_dict[target2].mean())/results_dict[target2].std()\n",
    "\n",
    "ax1.scatter(results_dict[\"ground_truth\"], ve_dmean, 5, label=r\"VE-Assessor, $d_{mean}$\")\n",
    "ax1.scatter(results_dict[\"ground_truth\"], bam_oc, 5, label=r\"BAM-Assessor, (OC)\")\n",
    "\n",
    "fprvi, tprvi, _ = metrics.roc_curve(ground_truth_classification, ve_dmean)\n",
    "fprvs, tprvs, _ = metrics.roc_curve(ground_truth_classification, bam_oc)\n",
    "\n",
    "ax2.plot(fprvi, tprvi, label=r\"VE-Assessor, $d_{mean}$\")\n",
    "ax2.plot(fprvs, tprvs, label=r\"OC-Assessor\")\n",
    "ax1.set_title(\"scatter plot\")\n",
    "ax1.set_xlabel(\"human rating\")\n",
    "ax1.set_ylabel(\"assessor (normalized)\")\n",
    "ax2.set_title(\"ROC curves\")\n",
    "ax2.set_xlabel(\"FPR\")\n",
    "ax2.set_ylabel(\"TPR\")\n",
    "ax2.legend()\n",
    "ax1.legend()\n",
    "ax1.set_xlim([-0.1,3.1])\n",
    "plt.gcf().set_size_inches(6,3)\n",
    "plt.tight_layout()\n",
    "plt.gcf().savefig(\"data_scatter.pdf\")"
   ]
  },
  {
   "cell_type": "markdown",
   "metadata": {},
   "source": [
    "# Run crossvalidation to compute covariance matrices and models"
   ]
  },
  {
   "cell_type": "code",
   "execution_count": 138,
   "metadata": {},
   "outputs": [],
   "source": [
    "def cross_val_covariance_matrix(results_matrix, n=5):\n",
    "    \"\"\" Results matrix: Output of previous processing step. The last column contains the fold indices in range [0 ... 9]\n",
    "        n: number of Validation folds. n = 2,5,10\n",
    "    \"\"\"\n",
    "    corr_mat = np.zeros((results_matrix.shape[1]-1, results_matrix.shape[1]-1, n))\n",
    "    for i in range(n):\n",
    "        indices = ((results_matrix[:,-1].astype(int) // (10/n)) == i)\n",
    "        results_matrix_test = results_matrix[indices,:-1]\n",
    "        corr_mat[:,:,i] = np.corrcoef(results_matrix_test.T)\n",
    "    return corr_mat.mean(axis=2), corr_mat.std(axis=2)/math.sqrt(n)"
   ]
  },
  {
   "cell_type": "code",
   "execution_count": 140,
   "metadata": {},
   "outputs": [
    {
     "name": "stdout",
     "output_type": "stream",
     "text": [
      "(8, 8)\n",
      "Correlations\n",
      "Correlation btw. ground_truth / ve_dmin 0.562 (+-0.0342)\n",
      "Correlation btw. ground_truth / ve_dmean 0.755 (+-0.0195)\n",
      "Correlation btw. ground_truth / ve_dmin_weigh 0.719 (+-0.0173)\n",
      "Correlation btw. ground_truth / ve_dmean_weigh 0.83 (+-0.0117)\n",
      "Correlation btw. ground_truth / bam_jvl 0.392 (+-0.0234)\n",
      "Correlation btw. ground_truth / bam_jvl_crop 0.365 (+-0.0242)\n",
      "Correlation btw. ground_truth / bam_oc 0.696 (+-0.02)\n",
      "Correlation btw. ground_truth / ground_truth 1.0 (+-3.14e-17)\n"
     ]
    }
   ],
   "source": [
    "# Assemble results to matrix\n",
    "results_matrix = numpy.stack([v for v in results_dict.values()]).T\n",
    "corr, stderr = cross_val_covariance_matrix(results_matrix, n=5)\n",
    "print(corr.shape)\n",
    "print(\"Correlations\")\n",
    "names = [v for v in results_dict.keys()]\n",
    "compare_idx = 7 # ground truth\n",
    "for clm in range(len(corr)):\n",
    "    print(\"Correlation btw.\", names[compare_idx], \"/\",names[clm], f\"{corr[compare_idx, clm]:.03} (+-{stderr[compare_idx, clm]:.03})\" )"
   ]
  },
  {
   "cell_type": "markdown",
   "metadata": {},
   "source": [
    "# Run the Hybrid assessors (HY)"
   ]
  },
  {
   "cell_type": "markdown",
   "metadata": {},
   "source": [
    "For the combined models, we compute the correlation and the accuracy that could be optained by a Logistic regression classifier, that only considers the two-class problem of predicting if a concept is rated above or below the median.\n"
   ]
  },
  {
   "cell_type": "markdown",
   "metadata": {},
   "source": [
    "To speed up computation, we compute the scores directly from the data matrix obtained in the last step. However, we also have implemented a class ``HybridAssessor`` that could be used."
   ]
  },
  {
   "cell_type": "code",
   "execution_count": 171,
   "metadata": {},
   "outputs": [],
   "source": [
    "from sklearn.linear_model import LinearRegression, LogisticRegression\n",
    "from sklearn.tree import DecisionTreeRegressor\n",
    "def cross_combined_correlation(input_matrix, n=5):\n",
    "    \"\"\" Fit a Linear Regression to :-2 columns in results matrix, to predict results_matrix column -2 (contains the ground truth)\n",
    "        The very last column (-1) of results matrix is supposed to contain the folds, the previous one (-2) the ground truth\n",
    "        n = number of folds for crossvalidation.\n",
    "    \"\"\"\n",
    "    corrs = np.zeros(n)\n",
    "    for i in range(n):\n",
    "        test_indices = ((input_matrix[:,-1].astype(int) // (10/n)) == i)\n",
    "        train_indices = ~test_indices\n",
    "        results_matrix_train = input_matrix[train_indices,:]\n",
    "        results_matrix_test = input_matrix[test_indices,:]\n",
    "        reg = LinearRegression(fit_intercept=True).fit(results_matrix_train[:,:-2], results_matrix_train[:,-2])\n",
    "        pred = reg.predict(results_matrix_test[:,:-2])\n",
    "        corrs[i] =  np.corrcoef(pred.flatten(), results_matrix_test[:,-2].flatten())[0,1]\n",
    "        #corrs[i] = np.sum(reg.predict(results_matrix_test[:,1:])==labels_test)/len(labels_test)\n",
    "    #print(corrs)\n",
    "    return corrs.mean(), corrs.std()"
   ]
  },
  {
   "cell_type": "code",
   "execution_count": 172,
   "metadata": {},
   "outputs": [],
   "source": [
    "from sklearn.linear_model import LinearRegression, LogisticRegression\n",
    "from sklearn.ensemble import ExtraTreesRegressor\n",
    "def cross_combined_accuracy(input_matrix, n=5):\n",
    "    \"\"\" Fit a model to :-2 columns in results matrix, to predict results_matrix -1 (contains the ground truth)\n",
    "        The very last column (-1) of results matrix is supposed to contain the folds, the previous one (-2) the ground truth\n",
    "        n = number of folds for crossvalidation.\n",
    "    \"\"\"\n",
    "    input_normalized = (input_matrix[:,:-1]-input_matrix[:,:-1].mean(axis=0))/input_matrix[:,:-1].std(axis=0)\n",
    "    median = np.median(input_matrix[:, -2])\n",
    "    labels = input_matrix[:, -2] > median\n",
    "    \n",
    "    corrs = np.zeros(n)\n",
    "    for i in range(n):\n",
    "        test_indices = ((input_matrix[:,-1].astype(int) // (10/n)) == i)\n",
    "        train_indices = ~test_indices\n",
    "        results_matrix_train = input_normalized[train_indices,:]\n",
    "        results_matrix_test = input_normalized[test_indices,:]\n",
    "        labels_train = labels[train_indices]\n",
    "        labels_test = labels[test_indices]\n",
    "        \n",
    "        #print(results_matrix_train.shape, results_matrix_test.shape, len(labels_test))\n",
    "        reg = LogisticRegression(fit_intercept=True).fit(results_matrix_train[:,:-2], labels_train)\n",
    "        # reg = ExtraTreesRegressor(n_estimators=500).fit(results_matrix_train[:,:-2], labels_train)\n",
    "        pred = reg.predict(results_matrix_test[:,:-2])>0.5\n",
    "        corrs[i] = np.sum(pred==labels_test)/len(labels_test)\n",
    "    return corrs.mean(), corrs.std()"
   ]
  },
  {
   "cell_type": "markdown",
   "metadata": {},
   "source": [
    "## Combine the best features of all categories"
   ]
  },
  {
   "cell_type": "markdown",
   "metadata": {},
   "source": [
    "We use the VE assessor, with $d_{mean}$ and combine it with the different BAM assessors."
   ]
  },
  {
   "cell_type": "code",
   "execution_count": 173,
   "metadata": {},
   "outputs": [],
   "source": [
    "def get_combined_matrix(clmlist):\n",
    "    \"\"\" Combine some columns with predictions from different assessors, to obtain a better prediction.\"\"\"\n",
    "    return numpy.stack([results_dict[v] for v in clmlist]+[results_dict[\"ground_truth\"]]+[results_dict[\"folds\"]]).T"
   ]
  },
  {
   "cell_type": "code",
   "execution_count": 174,
   "metadata": {},
   "outputs": [
    {
     "name": "stdout",
     "output_type": "stream",
     "text": [
      "VE+BAM (OC): Acc: 0.87\n",
      "VE+BAM (OC): Standard Error Acc: 0.06\n",
      "VE+BAM (OC): Corr: 0.87\n",
      "VE+BAM (OC): Standard Error Corr: 0.03\n",
      "VE+BAM(JVL): Acc: 0.87\n",
      "VE+BAM(JVL): Standard Error Acc: 0.06\n",
      "VE+BAM(JVL): Corr: 0.83\n",
      "VE+BAM(JVL): Standard Error Corr: 0.03\n",
      "VE+BAM(JVL,Crop): Acc: 0.87\n",
      "VE+BAM(JVL,Crop): Standard Error Acc: 0.06\n",
      "VE+BAM(JVL,Crop): Corr: 0.83\n",
      "VE+BAM(JVL,Crop): Standard Error Corr: 0.03\n"
     ]
    }
   ],
   "source": [
    "oc_hy_matrix = get_combined_matrix([\"ve_dmean_weigh\", \"bam_oc\"])\n",
    "jvl_hy_matrix   = get_combined_matrix([\"ve_dmean_weigh\", \"bam_jvl\"])\n",
    "jvl_crop_hy_matrix  = get_combined_matrix([\"ve_dmean_weigh\", \"bam_jvl_crop\"])\n",
    "\n",
    "for s,matrix in zip(['VE+BAM (OC)', 'VE+BAM(JVL)', 'VE+BAM(JVL,Crop)'], [oc_hy_matrix, jvl_hy_matrix, jvl_crop_hy_matrix]):\n",
    "    with np.printoptions(precision=2, suppress=False):\n",
    "        acc, stderr = cross_combined_accuracy(matrix, n=5)\n",
    "        #print(matrix.shape, )\n",
    "        print(\"%s: Acc: %.2f\"%(s,acc))\n",
    "        print(\"%s: Standard Error Acc: %.2f\"%(s,stderr))\n",
    "\n",
    "        corr, std  = cross_combined_correlation(matrix, n=5)\n",
    "        print(\"%s: Corr: %.2f\"%(s,corr))\n",
    "        print(\"%s: Standard Error Corr: %.2f\"%(s,std))"
   ]
  },
  {
   "cell_type": "markdown",
   "metadata": {},
   "source": [
    "## Compute the weights for the hybrid assessor.\n",
    "In this final section, we show how the hybrid assessor can be implemented and used to make even better prediction."
   ]
  },
  {
   "cell_type": "code",
   "execution_count": 211,
   "metadata": {},
   "outputs": [],
   "source": [
    "def get_model_weights(assessor_list):\n",
    "    \"\"\" Return the weights of the model to use in the hybrid assessor.\n",
    "        No Cross-Validation.\n",
    "    \"\"\"\n",
    "    input_matrix = get_combined_matrix(assessor_list)\n",
    "    print(input_matrix.shape)\n",
    "    reg = LinearRegression(fit_intercept=True).fit(input_matrix[:,:-2], input_matrix[:,-2])\n",
    "    return reg.coef_, reg.intercept_"
   ]
  },
  {
   "cell_type": "code",
   "execution_count": 212,
   "metadata": {},
   "outputs": [
    {
     "name": "stdout",
     "output_type": "stream",
     "text": [
      "(260, 4)\n",
      "Hybrid assessor weights: [5.66875056 0.12422668]\n"
     ]
    }
   ],
   "source": [
    "hybrid_weights, bias = get_model_weights([\"ve_dmean_weigh\", \"bam_oc\"])\n",
    "print(\"Hybrid assessor weights:\", weights)"
   ]
  },
  {
   "cell_type": "markdown",
   "metadata": {},
   "source": [
    "Use the hybrid assessor class."
   ]
  },
  {
   "cell_type": "code",
   "execution_count": 215,
   "metadata": {},
   "outputs": [],
   "source": [
    "from coherence_assessor import HybridAssessor"
   ]
  },
  {
   "cell_type": "code",
   "execution_count": 216,
   "metadata": {},
   "outputs": [],
   "source": [
    "hy_assessor = HybridAssessor([VisualEmbeddingsAssessor(device=use_device, coherence_measure = \"mean\", cam_weighted=True, model=model), BestAlignedMeaningAssessor()], hybrid_weights)"
   ]
  },
  {
   "cell_type": "code",
   "execution_count": 217,
   "metadata": {},
   "outputs": [
    {
     "name": "stderr",
     "output_type": "stream",
     "text": [
      "260it [00:28,  9.12it/s]\n"
     ]
    }
   ],
   "source": [
    "hy_assessor_results = np.zeros(len(eval_concepts))\n",
    "for i, my_concept in tqdm(enumerate(eval_concepts)):\n",
    "    hy_assessor_results[i] = hy_assessor.assess(meaning, my_concept)"
   ]
  },
  {
   "cell_type": "code",
   "execution_count": 210,
   "metadata": {},
   "outputs": [
    {
     "data": {
      "text/plain": [
       "<matplotlib.legend.Legend at 0x7f897902a760>"
      ]
     },
     "execution_count": 210,
     "metadata": {},
     "output_type": "execute_result"
    },
    {
     "data": {
      "image/png": "[encoded data removed]",
      "text/plain": [
       "<Figure size 432x288 with 1 Axes>"
      ]
     },
     "metadata": {
      "needs_background": "light"
     },
     "output_type": "display_data"
    }
   ],
   "source": [
    "median = np.median(results_dict[\"ground_truth\"])\n",
    "ground_truth_classification = results_dict[\"ground_truth\"] > median # Classification: larger or smaller than median\n",
    "target1 = \"ve_dmean_weigh\"\n",
    "target2 = \"bam_oc\"\n",
    "hy_assessment = (hy_assessor_results-hy_assessor_results.mean())/hy_assessor_results.std()\n",
    "\n",
    "f, ax1 = plt.subplots()\n",
    "ax1.scatter(results_dict[\"ground_truth\"], hy_assessment, 5, label=r\"HY-Assessor, VE+BAM\")\n",
    "\n",
    "ax1.set_title(\"scatter plot\")\n",
    "ax1.set_xlabel(\"human rating\")\n",
    "ax1.set_ylabel(\"assessor (normalized)\")\n",
    "ax1.legend()\n",
    "ax1.show"
   ]
  },
  {
   "cell_type": "markdown",
   "metadata": {},
   "source": [
    "## Supplement: Compute user agreement, Further Analysis"
   ]
  },
  {
   "cell_type": "markdown",
   "metadata": {},
   "source": [
    "We compute the value of Cohan's Kappa. (https://de.wikipedia.org/wiki/Cohens_Kappa)\n",
    "\n",
    "First set up the $d_ij$ matrix.\n",
    "First we compute kappa of the ratings (4 items)"
   ]
  },
  {
   "cell_type": "code",
   "execution_count": 223,
   "metadata": {},
   "outputs": [],
   "source": [
    "d = 10 # number of raters"
   ]
  },
  {
   "cell_type": "code",
   "execution_count": 224,
   "metadata": {},
   "outputs": [
    {
     "name": "stdout",
     "output_type": "stream",
     "text": [
      "(260, 4)\n",
      "First lines of dmatrix: \n",
      " [[ 0  0  3  7]\n",
      " [ 0  0 10  0]\n",
      " [ 0 10  0  0]\n",
      " [ 2  5  3  0]\n",
      " [ 3  6  1  0]]\n"
     ]
    }
   ],
   "source": [
    "dmatrix = data_frame.groupby(['source_file', 'source_id', 'rating_num']).size().unstack(fill_value=0).values\n",
    "# The dmatrix contains the number of raters, that gave a certain rating for each concept.\n",
    "print(dmatrix.shape)\n",
    "print(\"First lines of dmatrix: \\n\",dmatrix[:5])"
   ]
  },
  {
   "cell_type": "code",
   "execution_count": 225,
   "metadata": {},
   "outputs": [],
   "source": [
    "pc = np.sum(np.power(dmatrix.sum(axis=0)/dmatrix.sum(),2))"
   ]
  },
  {
   "cell_type": "code",
   "execution_count": 226,
   "metadata": {},
   "outputs": [
    {
     "name": "stdout",
     "output_type": "stream",
     "text": [
      "Chance of agreement: 0.47008547008547014\n",
      "Chance of agreement on random assignment: 0.2899440828402367\n",
      "Cohens kappa: 0.2537002831633349\n"
     ]
    }
   ],
   "source": [
    "p0 = ((1.0/(d*(d-1.0)))*dmatrix*(dmatrix-1)).sum(axis=1)\n",
    "p0  = p0.mean()\n",
    "print(\"Chance of agreement:\", p0)\n",
    "print(\"Chance of agreement on random assignment:\", pc)\n",
    "print(\"Cohens kappa:\", (p0-pc)/(1-pc))"
   ]
  },
  {
   "cell_type": "markdown",
   "metadata": {},
   "source": [
    "## Varianance Hypotheses Test\n",
    "\n",
    "What is the probability that the Variance of the data is observed under the null hypotheses of a uniform distribution?"
   ]
  },
  {
   "cell_type": "code",
   "execution_count": 243,
   "metadata": {},
   "outputs": [
    {
     "name": "stdout",
     "output_type": "stream",
     "text": [
      "1.25\n",
      "Variance of discrete uniform: 1.118033988749895\n"
     ]
    }
   ],
   "source": [
    "# Variance for a distrete uniform\n",
    "var = (4*4-1)/12.0\n",
    "print(var)\n",
    "std0 = np.sqrt(var)\n",
    "print(\"Variance of discrete uniform:\", std0)"
   ]
  },
  {
   "cell_type": "code",
   "execution_count": 244,
   "metadata": {},
   "outputs": [
    {
     "name": "stdout",
     "output_type": "stream",
     "text": [
      "Variance of data: 0.9314136025527721\n"
     ]
    }
   ],
   "source": [
    "dmatrix = data_frame[\"rating_num\"].values\n",
    "overall_std = np.std(dmatrix.flatten(), ddof=1)\n",
    "print(\"Variance of data:\", overall_std)"
   ]
  },
  {
   "cell_type": "code",
   "execution_count": 245,
   "metadata": {},
   "outputs": [],
   "source": [
    "dmatrix = data_frame[[\"source_id\", \"source_file\", \"rating_num\"]].groupby([\"source_id\", \"source_file\"]).agg(\"var\").values\n",
    "dstd = (10/9)*dmatrix\n",
    "T = (10-1)*(dstd/overall_std)**2"
   ]
  },
  {
   "cell_type": "code",
   "execution_count": 246,
   "metadata": {},
   "outputs": [
    {
     "name": "stdout",
     "output_type": "stream",
     "text": [
      "2.0879007358707273\n"
     ]
    }
   ],
   "source": [
    "from scipy.stats import chi2\n",
    "alpha = 0.01\n",
    "X_value = chi2.ppf(alpha, 9, loc=0, scale=1)\n",
    "print(X_value)"
   ]
  },
  {
   "cell_type": "code",
   "execution_count": 247,
   "metadata": {},
   "outputs": [
    {
     "name": "stdout",
     "output_type": "stream",
     "text": [
      "0.5846153846153846\n"
     ]
    }
   ],
   "source": [
    "print(np.sum(T<X_value)/260)"
   ]
  },
  {
   "cell_type": "markdown",
   "metadata": {},
   "source": [
    "Speak: for 58% of the concepts, the variance of the rating is significantly smaller (p=0.01) than if the values were drawn from a uniform distribution."
   ]
  },
  {
   "cell_type": "markdown",
   "metadata": {},
   "source": [
    "### Compute kappa for the agreement on word level. One kappa value is computed for each concept."
   ]
  },
  {
   "cell_type": "code",
   "execution_count": 248,
   "metadata": {},
   "outputs": [
    {
     "name": "stdout",
     "output_type": "stream",
     "text": [
      "(260, 18)\n",
      "[[6 0 0 0 4 0 0 0 0 0 0 0 0 0 0 0 0 0]\n",
      " [9 0 0 0 0 0 0 1 0 0 0 0 0 0 0 0 0 0]\n",
      " [6 0 1 0 2 0 0 0 0 0 0 1 0 0 0 0 0 0]\n",
      " [2 0 0 0 2 0 1 1 0 0 1 3 0 0 0 0 0 0]\n",
      " [2 0 5 0 0 0 1 0 1 0 1 0 0 0 0 0 0 0]]\n"
     ]
    }
   ],
   "source": [
    "dmatrix = data_frame.groupby(['source_file', 'source_id', 'description_idx']).size().unstack(fill_value=0).values\n",
    "print(dmatrix.shape)\n",
    "print(dmatrix[:5])"
   ]
  },
  {
   "cell_type": "code",
   "execution_count": 249,
   "metadata": {},
   "outputs": [],
   "source": [
    "wchoices = data_frame[['source_file', 'source_id','num_word_choices']].drop_duplicates()\n",
    "num_choices = wchoices['num_word_choices'].values"
   ]
  },
  {
   "cell_type": "code",
   "execution_count": 250,
   "metadata": {},
   "outputs": [
    {
     "name": "stdout",
     "output_type": "stream",
     "text": [
      "Chance of agreement: 0.3752991452991453\n",
      "Chance of agreement on random assignment: 0.10127242572661124\n",
      "Cohens kappa: 0.30490520978404567\n"
     ]
    }
   ],
   "source": [
    "d = 10 # Number of raters\n",
    "p0 = ((1.0/(d*(d-1.0)))*dmatrix*(dmatrix-1)).sum(axis=1)\n",
    "pc = 1.0/num_choices\n",
    "print(\"Chance of agreement:\", p0.mean())\n",
    "print(\"Chance of agreement on random assignment:\", pc.mean())\n",
    "print(\"Cohens kappa:\", (p0.mean()-pc.mean())/(1-pc.mean()))"
   ]
  },
  {
   "cell_type": "markdown",
   "metadata": {},
   "source": [
    "### How do the kappas change for concepts with different average ratings?"
   ]
  },
  {
   "cell_type": "code",
   "execution_count": 257,
   "metadata": {},
   "outputs": [],
   "source": [
    "local_kappas = (p0-pc)/(1-pc)"
   ]
  },
  {
   "cell_type": "code",
   "execution_count": 258,
   "metadata": {},
   "outputs": [
    {
     "name": "stdout",
     "output_type": "stream",
     "text": [
      "          source_file  source_id  rating_num  kappa_agreement\n",
      "0            awa_Shap          0         2.7         0.377778\n",
      "1            awa_Shap          1         2.0         0.783333\n",
      "2            awa_Shap          2         1.0         0.301852\n",
      "3            awa_Shap          3         1.1         0.012346\n",
      "4            awa_Shap          4         0.8         0.136508\n",
      "..                ...        ...         ...              ...\n",
      "255  places365_mixin5         15         1.5         0.120000\n",
      "256  places365_mixin5         16         1.3         1.000000\n",
      "257  places365_mixin5         17         1.4         0.593651\n",
      "258  places365_mixin5         18         1.1         0.275000\n",
      "259  places365_mixin5         19         0.9         0.135802\n",
      "\n",
      "[260 rows x 4 columns]\n"
     ]
    },
    {
     "data": {
      "text/html": [
       "<div>\n",
       "<style scoped>\n",
       "    .dataframe tbody tr th:only-of-type {\n",
       "        vertical-align: middle;\n",
       "    }\n",
       "\n",
       "    .dataframe tbody tr th {\n",
       "        vertical-align: top;\n",
       "    }\n",
       "\n",
       "    .dataframe thead th {\n",
       "        text-align: right;\n",
       "    }\n",
       "</style>\n",
       "<table border=\"1\" class=\"dataframe\">\n",
       "  <thead>\n",
       "    <tr style=\"text-align: right;\">\n",
       "      <th></th>\n",
       "      <th>source_id</th>\n",
       "      <th>rating_num</th>\n",
       "      <th>kappa_agreement</th>\n",
       "    </tr>\n",
       "  </thead>\n",
       "  <tbody>\n",
       "    <tr>\n",
       "      <th>1</th>\n",
       "      <td>16.157895</td>\n",
       "      <td>0.326316</td>\n",
       "      <td>-0.040414</td>\n",
       "    </tr>\n",
       "    <tr>\n",
       "      <th>2</th>\n",
       "      <td>17.650000</td>\n",
       "      <td>0.700000</td>\n",
       "      <td>0.106772</td>\n",
       "    </tr>\n",
       "    <tr>\n",
       "      <th>3</th>\n",
       "      <td>14.175439</td>\n",
       "      <td>1.236842</td>\n",
       "      <td>0.269242</td>\n",
       "    </tr>\n",
       "    <tr>\n",
       "      <th>4</th>\n",
       "      <td>16.529412</td>\n",
       "      <td>1.698039</td>\n",
       "      <td>0.386514</td>\n",
       "    </tr>\n",
       "    <tr>\n",
       "      <th>5</th>\n",
       "      <td>21.034483</td>\n",
       "      <td>2.212069</td>\n",
       "      <td>0.396390</td>\n",
       "    </tr>\n",
       "    <tr>\n",
       "      <th>6</th>\n",
       "      <td>25.314286</td>\n",
       "      <td>2.617143</td>\n",
       "      <td>0.504990</td>\n",
       "    </tr>\n",
       "  </tbody>\n",
       "</table>\n",
       "</div>"
      ],
      "text/plain": [
       "   source_id  rating_num  kappa_agreement\n",
       "1  16.157895    0.326316        -0.040414\n",
       "2  17.650000    0.700000         0.106772\n",
       "3  14.175439    1.236842         0.269242\n",
       "4  16.529412    1.698039         0.386514\n",
       "5  21.034483    2.212069         0.396390\n",
       "6  25.314286    2.617143         0.504990"
      ]
     },
     "execution_count": 258,
     "metadata": {},
     "output_type": "execute_result"
    }
   ],
   "source": [
    "by_concept = data_frame.groupby(['source_file', 'source_id']).mean()['rating_num'].reset_index()\n",
    "by_concept[\"kappa_agreement\"] = local_kappas\n",
    "print(by_concept)\n",
    "bins =  np.arange(0, 3, 0.5)\n",
    "ind = np.digitize(by_concept['rating_num'], bins)\n",
    "by_concept.groupby(ind).mean()\n",
    "#res_mat = by_concept[['rating_num','kappa_agreement']].values\n",
    "#plt.scatter(res_mat[:,0], res_mat[:,1])"
   ]
  },
  {
   "cell_type": "code",
   "execution_count": 259,
   "metadata": {},
   "outputs": [
    {
     "data": {
      "text/plain": [
       "Text(0, 0.5, 'kappa')"
      ]
     },
     "execution_count": 259,
     "metadata": {},
     "output_type": "execute_result"
    },
    {
     "data": {
      "image/png": "[encoded data removed]",
      "text/plain": [
       "<Figure size 432x288 with 1 Axes>"
      ]
     },
     "metadata": {
      "needs_background": "light"
     },
     "output_type": "display_data"
    }
   ],
   "source": [
    "res_mat = by_concept[['rating_num','kappa_agreement']].values\n",
    "plt.scatter(res_mat[:,0], res_mat[:,1])\n",
    "plt.xlabel(\"user score\")\n",
    "plt.ylabel(\"kappa\")"
   ]
  }
 ],
 "metadata": {
  "kernelspec": {
   "display_name": "tobiaspytorch",
   "language": "python",
   "name": "tobiaspytorch"
  },
  "language_info": {
   "codemirror_mode": {
    "name": "ipython",
    "version": 3
   },
   "file_extension": ".py",
   "mimetype": "text/x-python",
   "name": "python",
   "nbconvert_exporter": "python",
   "pygments_lexer": "ipython3",
   "version": "3.8.8"
  }
 },
 "nbformat": 4,
 "nbformat_minor": 4
}
